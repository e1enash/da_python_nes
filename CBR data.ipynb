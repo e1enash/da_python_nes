{
 "cells": [
  {
   "cell_type": "markdown",
   "id": "99e29b2d-02ca-414f-bf3d-6dbe76832e5e",
   "metadata": {},
   "source": [
    "# Работа с данными с сайта Центрального банка России\n",
    "Данные обменного курса RUR/USD, код читает ряд обменного курса, преобразует в ряд дневных доходностей и, наконец, выводит среднюю доходность и стандартное отклонение доходности за период с начала по конец 2023 года."
   ]
  },
  {
   "cell_type": "code",
   "execution_count": 7,
   "id": "c17f42ca-3857-40ac-920a-d6b5bdadc2b1",
   "metadata": {},
   "outputs": [
    {
     "name": "stdout",
     "output_type": "stream",
     "text": [
      "0.001 0.0086\n"
     ]
    }
   ],
   "source": [
    "# RUR/USD\n",
    "\n",
    "import numpy as np\n",
    "import re\n",
    "import urllib.request\n",
    "from bs4 import BeautifulSoup\n",
    "\n",
    "# открытие и прочтение ссылки\n",
    "# ссылка с нужными датами и кодом валюты\n",
    "url = 'https://cbr.ru/currency_base/dynamics/?UniDbQuery.Posted=True&UniDbQuery.so=1&UniDbQuery.mode=1&UniDbQuery.date_req1=&UniDbQuery.date_req2=&UniDbQuery.VAL_NM_RQ=R01235&UniDbQuery.From=31.12.2022&UniDbQuery.To=31.12.2023'\n",
    "html = urllib.request.urlopen(url).read()\n",
    "soup = BeautifulSoup(html, 'html.parser')\n",
    "tags = soup.find_all('td')\n",
    "\n",
    "# привожу к более читаемому виду, чтобы понять, что вообще нужно из этих данных\n",
    "all_data = []\n",
    "for tag in tags:\n",
    "    text = tag.get_text().replace('<td>1</td>', ' ').strip() # td>1</td> убираю\n",
    "    all_data.append(text) # в all_data есть теперь дата, единицы и значения курса\n",
    "\n",
    "# создаю новый лист, куда буду записывать необходимые значения курса, без даты и единиц\n",
    "necessary_data_reversed = []\n",
    "for element in all_data:\n",
    "    if ',' in element: # нужны элементы с запятой - так на сайте записываются показатели курса, в дате их нет\n",
    "        element_with_point = element.replace (',', '.') # запятую надо заменить на точку как разделитель\n",
    "        necessary_data_reversed.append (float(element_with_point))\n",
    "        necessary_data = necessary_data_reversed[::-1] \n",
    "            #данные скачиваются с сайта в обратном порядке - с 30.12.2023 по 10.01.2023\n",
    "        \n",
    "\n",
    "returns = [] #список для дневных доходностей\n",
    "for i in range (1, len(necessary_data)):\n",
    "    calculate = (necessary_data [i] - necessary_data [i-1])/necessary_data [i-1]\n",
    "    returns.append (calculate)\n",
    "\n",
    "my_mean = np.mean (returns)\n",
    "my_standard_deviation = np.std (returns, ddof=1) \n",
    "    # стандартное отклонение несмещенное из нампи\n",
    "print (my_mean.round (4), my_standard_deviation.round (4))"
   ]
  },
  {
   "cell_type": "code",
   "execution_count": 9,
   "id": "924d7e8d-da0e-44e6-bfa7-332654af25e5",
   "metadata": {},
   "outputs": [
    {
     "name": "stdout",
     "output_type": "stream",
     "text": [
      "0.0011 0.0086\n"
     ]
    }
   ],
   "source": [
    "# RUR/EUR\n",
    "\n",
    "import numpy as np\n",
    "import re\n",
    "import urllib.request\n",
    "from bs4 import BeautifulSoup\n",
    "\n",
    "url = 'https://cbr.ru/currency_base/dynamics/?UniDbQuery.Posted=True&UniDbQuery.so=1&UniDbQuery.mode=1&UniDbQuery.date_req1=&UniDbQuery.date_req2=&UniDbQuery.VAL_NM_RQ=R01239&UniDbQuery.From=31.12.2022&UniDbQuery.To=31.12.2023'\n",
    "html = urllib.request.urlopen(url).read()\n",
    "soup = BeautifulSoup(html, 'html.parser')\n",
    "tags = soup.find_all('td')\n",
    "\n",
    "all_data = []\n",
    "for tag in tags:\n",
    "    text = tag.get_text().replace('<td>1</td>', ' ').strip()\n",
    "    all_data.append(text)\n",
    "\n",
    "necessary_data_reversed = []\n",
    "for element in all_data:\n",
    "    if ',' in element:\n",
    "        element_with_point = element.replace (',', '.')\n",
    "        necessary_data_reversed.append (float(element_with_point))\n",
    "        necessary_data = necessary_data_reversed[::-1] \n",
    "        \n",
    "returns = []\n",
    "for i in range (1, len(necessary_data)):\n",
    "    calculate = ((necessary_data [i] - necessary_data [i-1])/necessary_data [i-1])\n",
    "    returns.append (calculate)\n",
    "\n",
    "my_mean = np.mean (returns)\n",
    "my_standard_deviation = np.std (returns, ddof=1)\n",
    "print (my_mean.round (4), my_standard_deviation.round (4))"
   ]
  }
 ],
 "metadata": {
  "kernelspec": {
   "display_name": "Python 3 (ipykernel)",
   "language": "python",
   "name": "python3"
  },
  "language_info": {
   "codemirror_mode": {
    "name": "ipython",
    "version": 3
   },
   "file_extension": ".py",
   "mimetype": "text/x-python",
   "name": "python",
   "nbconvert_exporter": "python",
   "pygments_lexer": "ipython3",
   "version": "3.12.4"
  }
 },
 "nbformat": 4,
 "nbformat_minor": 5
}
